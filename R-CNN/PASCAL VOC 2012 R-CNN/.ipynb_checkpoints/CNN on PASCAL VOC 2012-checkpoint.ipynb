{
 "cells": [
  {
   "cell_type": "code",
   "execution_count": 1,
   "metadata": {},
   "outputs": [],
   "source": [
    "from __future__ import print_function, division\n",
    "import json \n",
    "import numpy as np\n",
    "import cv2\n",
    "from matplotlib import pyplot as plt\n",
    "\n",
    "import torch\n",
    "import torch.nn as nn\n",
    "import torch.optim as optim\n",
    "from torch.optim import lr_scheduler\n",
    "import torchvision\n",
    "from torchvision import datasets, models, transforms\n",
    "from torchvision.datasets import ImageFolder\n",
    "import time\n",
    "import os\n",
    "import copy\n",
    "import sys\n",
    "\n",
    "from PIL import Image\n",
    "from PIL import ImageFont\n",
    "from PIL import ImageDraw\n",
    "\n",
    "import xml.etree.ElementTree as Et\n",
    "from xml.etree.ElementTree import Element, ElementTree\n",
    "\n",
    "import random\n",
    "\n",
    "from shutil import copyfile"
   ]
  },
  {
   "cell_type": "code",
   "execution_count": 2,
   "metadata": {},
   "outputs": [],
   "source": [
    "def printProgressBar (iteration, total, prefix = '', suffix = '', decimals = 1, length = 100, fill = '█', printEnd = \"\\r\"):\n",
    "    \"\"\"\n",
    "    Call in a loop to create terminal progress bar\n",
    "    @params:\n",
    "        iteration   - Required  : current iteration (Int)\n",
    "        total       - Required  : total iterations (Int)\n",
    "        prefix      - Optional  : prefix string (Str)\n",
    "        suffix      - Optional  : suffix string (Str)\n",
    "        decimals    - Optional  : positive number of decimals in percent complete (Int)\n",
    "        length      - Optional  : character length of bar (Int)\n",
    "        fill        - Optional  : bar fill character (Str)\n",
    "        printEnd    - Optional  : end character (e.g. \"\\r\", \"\\r\\n\") (Str)\n",
    "    \"\"\"\n",
    "    percent = (\"{0:.\" + str(decimals) + \"f}\").format(100 * (iteration / float(total)))\n",
    "    filledLength = int(length * iteration // total)\n",
    "    bar = fill * filledLength + '-' * (length - filledLength)\n",
    "    print(f'\\r{prefix} |{bar}| {percent}% {suffix}', end = printEnd)\n",
    "    # Print New Line on Complete\n",
    "    if iteration == total: \n",
    "        print()"
   ]
  },
  {
   "cell_type": "markdown",
   "metadata": {},
   "source": [
    "# training dataset 만들기\n",
    "\n",
    "PASCAL VOC 2012(class 20개) 데이터 사용함.\n",
    "\n",
    "Annotation이 존재하는 모든 이미지에서 object를 crop한 뒤,\n",
    "각 class 별로 train: 최대 800개, val: 100개, test: 100개 이미지를 가지도록 split 함."
   ]
  },
  {
   "cell_type": "code",
   "execution_count": 3,
   "metadata": {},
   "outputs": [],
   "source": [
    "PASCAL_PATH = './VOCtrainval_11-May-2012/VOCdevkit/VOC2012/'\n",
    "\n",
    "IMAGE_PATH = 'JPEGImages/'\n",
    "ANNOTATION_PATH = 'Annotations/'\n",
    "\n",
    "DATASET_PATH = './Dataset/'"
   ]
  },
  {
   "cell_type": "code",
   "execution_count": 4,
   "metadata": {},
   "outputs": [],
   "source": [
    "def InitializeNumOfImg():\n",
    "    for i in range(20):\n",
    "        num_of_img[i] = 0"
   ]
  },
  {
   "cell_type": "code",
   "execution_count": 5,
   "metadata": {},
   "outputs": [],
   "source": [
    "num_of_img = {}\n",
    "InitializeNumOfImg()"
   ]
  },
  {
   "cell_type": "code",
   "execution_count": 6,
   "metadata": {},
   "outputs": [],
   "source": [
    "class_name = [\"aeroplane\",\n",
    "              \"bicycle\",\n",
    "              \"bird\",\n",
    "              \"boat\",\n",
    "              \"bottle\",\n",
    "              \"bus\",\n",
    "              \"car\",\n",
    "              \"cat\",\n",
    "              \"chair\",\n",
    "              \"cow\",\n",
    "              \"diningtable\",\n",
    "              \"dog\",\n",
    "              \"horse\",\n",
    "              \"motorbike\",\n",
    "              \"person\",\n",
    "              \"pottedplant\",\n",
    "              \"sheep\",\n",
    "              \"sofa\",\n",
    "              \"train\",\n",
    "              \"tvmonitor\"\n",
    "             ]"
   ]
  },
  {
   "cell_type": "markdown",
   "metadata": {},
   "source": [
    "### 이미지를 지정된 폴더에 저장\n",
    "\n",
    "- train img: DATASET_PATH/train/class번호/ 폴더 내부에 이미지 저장\n",
    "    \n",
    "- val img: DATASET_PATH/val/class번호/ 폴더 내부에 이미지 저장\n",
    "    \n",
    "- test img: DATASET_PATH/test/class번호/ 폴더 내부에 이미지 저장\n",
    "    \n",
    "- base img (전체 데이터 편집 시 사용): DATASET_PATH/base/class번호/ 폴더 내부에 이미지 저장"
   ]
  },
  {
   "cell_type": "code",
   "execution_count": 7,
   "metadata": {},
   "outputs": [],
   "source": [
    "def custom_imsave(img, label, mode = 'base'):\n",
    "    \n",
    "    if mode == 'train' or mode == 'trainval':\n",
    "        path = DATASET_PATH + 'train/' + str(label) + '/'\n",
    "    elif mode == 'val':\n",
    "        path = DATASET_PATH + 'val/' + str(label) + '/'\n",
    "    elif mode == 'test':\n",
    "        path = DATASET_PATH + 'test/' + str(label) + '/'\n",
    "    elif mode == 'base':\n",
    "        path = DATASET_PATH + 'base/' + str(label) + '/'\n",
    "\n",
    "    if not os.path.exists(path):\n",
    "        os.makedirs(path)\n",
    "        \n",
    "    cv2.imwrite(path+str(num_of_img[label])+'.jpg', img)\n",
    "    num_of_img[label] += 1"
   ]
  },
  {
   "cell_type": "markdown",
   "metadata": {},
   "source": [
    "### Annotation이 존재하는 모든 이미지를 crop하여 class별로 저장"
   ]
  },
  {
   "cell_type": "code",
   "execution_count": 8,
   "metadata": {},
   "outputs": [],
   "source": [
    "def make_base_dataset():\n",
    "    mypath = PASCAL_PATH+'/Annotations'\n",
    "    img_list = [f.split('.')[0] for f in os.listdir(mypath) if f.endswith('.xml')]\n",
    "    print(f'total image: {len(img_list)}')\n",
    "    \n",
    "    for index, img_name in enumerate(img_list):\n",
    "        printProgressBar(index, len(img_list), prefix='Progress', suffix='Complete', length=50)\n",
    "        tmp_img = cv2.imread(PASCAL_PATH+IMAGE_PATH+'/'+img_name+'.jpg')\n",
    "        imout = tmp_img.copy()\n",
    "\n",
    "        gtvalues = []\n",
    "\n",
    "        img_xml = open(PASCAL_PATH+ANNOTATION_PATH+'/'+img_name+'.xml')\n",
    "        tree = Et.parse(img_xml)\n",
    "        root = tree.getroot()\n",
    "\n",
    "        objects = root.findall(\"object\")\n",
    "\n",
    "        # Annotation 기준으로 object 추출\n",
    "        for _object in objects:\n",
    "            name = _object.find(\"name\").text\n",
    "            bndbox = _object.find(\"bndbox\")\n",
    "            xmin = int(float(bndbox.find(\"xmin\").text))\n",
    "            ymin = int(float(bndbox.find(\"ymin\").text))\n",
    "            xmax = int(float(bndbox.find(\"xmax\").text))\n",
    "            ymax = int(float(bndbox.find(\"ymax\").text))\n",
    "            \n",
    "            timage = imout[ymin:ymax, xmin:xmax]\n",
    "            # 정의된 class에 존재하는 object일 경우 이미지 crop 및 저장\n",
    "            if name in class_name:\n",
    "                class_num = class_name.index(name)\n",
    "                custom_imsave(timage, class_num)\n",
    "    printProgressBar(len(img_list), len(img_list), prefix='Progress', suffix='Complete', length=50)"
   ]
  },
  {
   "cell_type": "code",
   "execution_count": 9,
   "metadata": {},
   "outputs": [
    {
     "name": "stdout",
     "output_type": "stream",
     "text": [
      "total image: 17125\n",
      "Progress |██████████████████████████████████████████████████| 100.0% Complete\n"
     ]
    }
   ],
   "source": [
    "make_base_dataset()"
   ]
  },
  {
   "cell_type": "code",
   "execution_count": 10,
   "metadata": {},
   "outputs": [],
   "source": [
    "def split_data_into_train_val_test():\n",
    "    path_list = [DATASET_PATH+'train/', DATASET_PATH+'val/', DATASET_PATH+'test/']\n",
    "    \n",
    "    for path in path_list:\n",
    "        if not os.path.exists(path):\n",
    "            os.makedirs(path)\n",
    "            for i in num_of_img:\n",
    "                if not os.path.exists(os.path.join(path,str(i))):\n",
    "                    os.makedirs(os.path.join(path,str(i)))\n",
    "    \n",
    "    for i in num_of_img:\n",
    "        print(f'class {i} has {num_of_img[i]} items')\n",
    "        class_path = os.path.join(DATASET_PATH+'base/',str(i))\n",
    "        img_list = [f for f in os.listdir(class_path)]\n",
    "        random.shuffle(img_list)\n",
    "        \n",
    "        for index, img_name in enumerate(img_list):\n",
    "            if index < 100:\n",
    "                copyfile(os.path.join(class_path,img_name),os.path.join(path_list[1],str(i),img_name))\n",
    "            elif index < 200:\n",
    "                copyfile(os.path.join(class_path,img_name),os.path.join(path_list[2],str(i),img_name))\n",
    "            elif index < 1000:\n",
    "                copyfile(os.path.join(class_path,img_name),os.path.join(path_list[0],str(i),img_name))\n",
    "        "
   ]
  },
  {
   "cell_type": "code",
   "execution_count": 11,
   "metadata": {},
   "outputs": [
    {
     "name": "stdout",
     "output_type": "stream",
     "text": [
      "class 0 has 1002 items\n",
      "class 1 has 837 items\n",
      "class 2 has 1271 items\n",
      "class 3 has 1059 items\n",
      "class 4 has 1561 items\n",
      "class 5 has 685 items\n",
      "class 6 has 2492 items\n",
      "class 7 has 1277 items\n",
      "class 8 has 3056 items\n",
      "class 9 has 771 items\n",
      "class 10 has 800 items\n",
      "class 11 has 1598 items\n",
      "class 12 has 803 items\n",
      "class 13 has 801 items\n",
      "class 14 has 17401 items\n",
      "class 15 has 1202 items\n",
      "class 16 has 1084 items\n",
      "class 17 has 841 items\n",
      "class 18 has 704 items\n",
      "class 19 has 893 items\n"
     ]
    }
   ],
   "source": [
    "split_data_into_train_val_test()"
   ]
  },
  {
   "cell_type": "markdown",
   "metadata": {},
   "source": [
    "# VGG16 모델 이용하여 CNN 적용하기"
   ]
  },
  {
   "cell_type": "markdown",
   "metadata": {},
   "source": [
    "## 데이터 가져오기"
   ]
  },
  {
   "cell_type": "code",
   "execution_count": 12,
   "metadata": {},
   "outputs": [],
   "source": [
    "data_transforms = {\n",
    "    'train': transforms.Compose([\n",
    "        transforms.Resize((224,224)),\n",
    "        transforms.RandomHorizontalFlip(),\n",
    "        transforms.ToTensor(),\n",
    "        transforms.Normalize([0.485, 0.456, 0.406], [0.229, 0.224, 0.225])\n",
    "    ]),\n",
    "    'val': transforms.Compose([\n",
    "        transforms.Resize((224,224)),\n",
    "        transforms.ToTensor(),\n",
    "        transforms.Normalize([0.485, 0.456, 0.406], [0.229, 0.224, 0.225])\n",
    "    ]),\n",
    "    'test': transforms.Compose([\n",
    "        transforms.Resize((224,224)),\n",
    "        transforms.ToTensor(),\n",
    "        transforms.Normalize([0.485, 0.456, 0.406], [0.229, 0.224, 0.225])\n",
    "    ])\n",
    "}"
   ]
  },
  {
   "cell_type": "code",
   "execution_count": 13,
   "metadata": {},
   "outputs": [],
   "source": [
    "image_datasets = {x: datasets.ImageFolder(os.path.join(DATASET_PATH, x),\n",
    "                                          data_transforms[x])\n",
    "                  for x in ['train', 'val', 'test']}\n",
    "dataloaders = {x: torch.utils.data.DataLoader(image_datasets[x], batch_size=4,\n",
    "                                             shuffle=True, num_workers=4)\n",
    "              for x in ['train', 'val', 'test']}\n",
    "dataset_sizes = {x: len(image_datasets[x]) for x in ['train', 'val', 'test']}\n",
    "class_names = image_datasets['train'].classes\n",
    "\n",
    "device = torch.device(\"cuda:0\" if torch.cuda.is_available() else \"cpu\")"
   ]
  },
  {
   "cell_type": "markdown",
   "metadata": {},
   "source": [
    "## 데이터 확인하기"
   ]
  },
  {
   "cell_type": "code",
   "execution_count": 14,
   "metadata": {},
   "outputs": [],
   "source": [
    "def imshow(inp, title=None):\n",
    "    \"\"\"Imshow for Tensor.\"\"\"\n",
    "    inp = inp.numpy().transpose((1, 2, 0))\n",
    "    mean = np.array([0.485, 0.456, 0.406])\n",
    "    std = np.array([0.229, 0.224, 0.225])\n",
    "    inp = std * inp + mean\n",
    "    inp = np.clip(inp, 0, 1)\n",
    "    plt.imshow(inp)\n",
    "    if title is not None:\n",
    "        plt.title(title)\n",
    "    plt.pause(0.001)  # 갱신이 될 때까지 잠시 기다립니다."
   ]
  },
  {
   "cell_type": "code",
   "execution_count": 15,
   "metadata": {},
   "outputs": [
    {
     "data": {
      "image/png": "[encoded data removed]",
      "text/plain": [
       "<Figure size 432x288 with 1 Axes>"
      ]
     },
     "metadata": {
      "needs_background": "light"
     },
     "output_type": "display_data"
    }
   ],
   "source": [
    "# 학습 데이터의 배치를 얻습니다.\n",
    "inputs, classes = next(iter(dataloaders['train']))\n",
    "\n",
    "# 배치로부터 격자 형태의 이미지를 만듭니다.\n",
    "out = torchvision.utils.make_grid(inputs)\n",
    "\n",
    "imshow(out, title=[class_names[x] for x in classes])"
   ]
  },
  {
   "cell_type": "markdown",
   "metadata": {},
   "source": [
    "## 모델 학습하기"
   ]
  },
  {
   "cell_type": "code",
   "execution_count": 16,
   "metadata": {},
   "outputs": [],
   "source": [
    "def train_model(model, criterion, optimizer, scheduler, num_epochs=25):\n",
    "    since = time.time()\n",
    "\n",
    "    best_model_wts = copy.deepcopy(model.state_dict())\n",
    "    best_acc = 0.0\n",
    "\n",
    "    for epoch in range(num_epochs):\n",
    "        print('Epoch {}/{}'.format(epoch, num_epochs - 1))\n",
    "        print('-' * 10)\n",
    "\n",
    "        # 각 에폭(epoch)은 학습 단계와 검증 단계를 갖습니다.\n",
    "        for phase in ['train', 'val']:\n",
    "            if phase == 'train':\n",
    "                model.train()  # 모델을 학습 모드로 설정\n",
    "            else:\n",
    "                model.eval()   # 모델을 평가 모드로 설정\n",
    "\n",
    "            running_loss = 0.0\n",
    "            running_corrects = 0\n",
    "\n",
    "            # 데이터를 반복\n",
    "            for index, (inputs, labels) in enumerate(dataloaders[phase]):\n",
    "                printProgressBar (index, len(dataloaders[phase]), prefix='Progress', suffix='Complete', length=50)\n",
    "                inputs = inputs.to(device)\n",
    "                labels = labels.to(device)\n",
    "\n",
    "                # 매개변수 경사도를 0으로 설정\n",
    "                optimizer.zero_grad()\n",
    "\n",
    "                # 순전파\n",
    "                # 학습 시에만 연산 기록을 추적\n",
    "                with torch.set_grad_enabled(phase == 'train'):\n",
    "                    outputs = model(inputs)\n",
    "                    _, preds = torch.max(outputs, 1)\n",
    "                    loss = criterion(outputs, labels)\n",
    "\n",
    "                    # 학습 단계인 경우 역전파 + 최적화\n",
    "                    if phase == 'train':\n",
    "                        loss.backward()\n",
    "                        optimizer.step()\n",
    "\n",
    "                # 통계\n",
    "                running_loss += loss.item() * inputs.size(0)\n",
    "                running_corrects += torch.sum(preds == labels.data)\n",
    "            printProgressBar (len(dataloaders[phase]), len(dataloaders[phase]), prefix='Progress', suffix='Complete', length=50)\n",
    "            if phase == 'train':\n",
    "                scheduler.step()\n",
    "\n",
    "            epoch_loss = running_loss / dataset_sizes[phase]\n",
    "            epoch_acc = running_corrects.double() / dataset_sizes[phase]\n",
    "\n",
    "            print('{} Loss: {:.4f} Acc: {:.4f}'.format(\n",
    "                phase, epoch_loss, epoch_acc))\n",
    "\n",
    "            # 모델을 깊은 복사(deep copy)함\n",
    "            if phase == 'val' and epoch_acc > best_acc:\n",
    "                best_acc = epoch_acc\n",
    "                best_model_wts = copy.deepcopy(model.state_dict())\n",
    "\n",
    "        print()\n",
    "\n",
    "    time_elapsed = time.time() - since\n",
    "    print('Training complete in {:.0f}m {:.0f}s'.format(\n",
    "        time_elapsed // 60, time_elapsed % 60))\n",
    "    print('Best val Acc: {:4f}'.format(best_acc))\n",
    "\n",
    "    # 가장 나은 모델 가중치를 불러옴\n",
    "    model.load_state_dict(best_model_wts)\n",
    "    return model"
   ]
  },
  {
   "cell_type": "code",
   "execution_count": 17,
   "metadata": {},
   "outputs": [],
   "source": [
    "def visualize_model(model, num_images=6):\n",
    "    was_training = model.training\n",
    "    model.eval()\n",
    "    images_so_far = 0\n",
    "    fig = plt.figure()\n",
    "\n",
    "    with torch.no_grad():\n",
    "        for i, (inputs, labels) in enumerate(dataloaders['val']):\n",
    "            inputs = inputs.to(device)\n",
    "            labels = labels.to(device)\n",
    "\n",
    "            outputs = model(inputs)\n",
    "            _, preds = torch.max(outputs, 1)\n",
    "\n",
    "            for j in range(inputs.size()[0]):\n",
    "                images_so_far += 1\n",
    "                ax = plt.subplot(num_images//2, 2, images_so_far)\n",
    "                ax.axis('off')\n",
    "                ax.set_title('predicted: {}'.format(class_names[preds[j]]))\n",
    "                imshow(inputs.cpu().data[j])\n",
    "\n",
    "                if images_so_far == num_images:\n",
    "                    model.train(mode=was_training)\n",
    "                    return\n",
    "        model.train(mode=was_training)"
   ]
  },
  {
   "cell_type": "code",
   "execution_count": 18,
   "metadata": {},
   "outputs": [],
   "source": [
    "model = models.vgg16(pretrained=True)\n",
    "model.classifier[-1] = nn.Linear(in_features=4096, out_features=len(class_names))\n",
    "model = model.to(device)\n",
    "criterion = nn.CrossEntropyLoss()\n",
    "\n",
    "# 모든 매개변수들이 최적화되었는지 관찰\n",
    "optimizer_ft = optim.SGD(model.parameters(), lr=0.001, momentum=0.9)\n",
    "\n",
    "# 7 에폭마다 0.1씩 학습율 감소\n",
    "exp_lr_scheduler = lr_scheduler.StepLR(optimizer_ft, step_size=7, gamma=0.1)"
   ]
  },
  {
   "cell_type": "code",
   "execution_count": null,
   "metadata": {},
   "outputs": [
    {
     "name": "stdout",
     "output_type": "stream",
     "text": [
      "Epoch 0/24\n",
      "----------\n",
      "Progress |██████████████████████████████████████████████████| 100.0% Complete\n",
      "train Loss: 1.2068 Acc: 0.6308\n",
      "Progress |██████████████████████████████████████████████████| 100.0% Complete\n",
      "val Loss: 0.9570 Acc: 0.7080\n",
      "\n",
      "Epoch 1/24\n",
      "----------\n",
      "Progress |██████████████████████████████████████████████████| 100.0% Complete\n",
      "train Loss: 0.8076 Acc: 0.7486\n",
      "Progress |██████████████████████████████████████████████████| 100.0% Complete\n",
      "val Loss: 0.7635 Acc: 0.7675\n",
      "\n",
      "Epoch 2/24\n",
      "----------\n",
      "Progress |██████████████████████████████████████████████████| 100.0% Complete\n",
      "train Loss: 0.6284 Acc: 0.8028\n",
      "Progress |██████████████████████████████████████████████████| 100.0% Complete\n",
      "val Loss: 0.7085 Acc: 0.7755\n",
      "\n",
      "Epoch 3/24\n",
      "----------\n",
      "Progress |██████████████████████████████████████████████████| 100.0% Complete\n",
      "train Loss: 0.5458 Acc: 0.8273\n",
      "Progress |██████████████████████████████████████████████████| 100.0% Complete\n",
      "val Loss: 0.7462 Acc: 0.7730\n",
      "\n",
      "Epoch 4/24\n",
      "----------\n",
      "Progress |██████████████████████████████████████████████████| 100.0% Complete\n",
      "train Loss: 0.4737 Acc: 0.8487\n",
      "Progress |██████████████████████████████████████████████████| 100.0% Complete\n",
      "val Loss: 0.7105 Acc: 0.7830\n",
      "\n",
      "Epoch 5/24\n",
      "----------\n",
      "Progress |██████████████████████████████████████████████████| 100.0% Complete\n",
      "train Loss: 0.3928 Acc: 0.8770\n",
      "Progress |██████████████████████████████████████████████████| 100.0% Complete\n",
      "val Loss: 0.6488 Acc: 0.8015\n",
      "\n",
      "Epoch 6/24\n",
      "----------\n",
      "Progress |██████████████████████████████████████████████████| 100.0% Complete\n",
      "train Loss: 0.3839 Acc: 0.8809\n",
      "Progress |██████████████████████████████████████████████████| 100.0% Complete\n",
      "val Loss: 0.7247 Acc: 0.7810\n",
      "\n",
      "Epoch 7/24\n",
      "----------\n",
      "Progress |██████████████████████████████████████████████████| 100.0% Complete\n",
      "train Loss: 0.1276 Acc: 0.9619\n",
      "Progress |██████████████████████████████████████████████████| 100.0% Complete\n",
      "val Loss: 0.5373 Acc: 0.8425\n",
      "\n",
      "Epoch 8/24\n",
      "----------\n",
      "Progress |██████████████████████████████████████████████████| 100.0% Complete\n",
      "train Loss: 0.0751 Acc: 0.9764\n",
      "Progress |██████████████████████████████████████████████████| 100.0% Complete\n",
      "val Loss: 0.5485 Acc: 0.8500\n",
      "\n",
      "Epoch 9/24\n",
      "----------\n",
      "Progress |███████████████████████████████████████████████---| 94.9% Complete\r"
     ]
    }
   ],
   "source": [
    "model = train_model(model, \n",
    "                       criterion, \n",
    "                       optimizer_ft, \n",
    "                       exp_lr_scheduler,\n",
    "                       num_epochs=25)"
   ]
  },
  {
   "cell_type": "markdown",
   "metadata": {},
   "source": [
    "## 모델 평가하기"
   ]
  },
  {
   "cell_type": "code",
   "execution_count": null,
   "metadata": {},
   "outputs": [],
   "source": [
    "def test_model(model):\n",
    "    since = time.time()\n",
    "    model.eval()\n",
    "    correct = 0\n",
    "    total = 0\n",
    "    with torch.no_grad():\n",
    "        for index, (inputs, labels) in enumerate(dataloaders['test']):\n",
    "            printProgressBar (index, len(dataloaders['test']), prefix='Progress', suffix='Complete', length=50)\n",
    "            inputs = inputs.to(device)\n",
    "            labels = labels.to(device)\n",
    "\n",
    "            outputs = model(inputs)\n",
    "            _, preds = torch.max(outputs, 1)\n",
    "            \n",
    "            \n",
    "            total += labels.size(0)\n",
    "            correct += torch.sum(preds == labels.data)\n",
    "            \n",
    "    printProgressBar (len(dataloaders['test']), len(dataloaders['test']), prefix='Progress', suffix='Complete', length=50)\n",
    "    time_elapsed = time.time() - since\n",
    "    print('Training complete in {:.0f}m {:.0f}s'.format(time_elapsed // 60, time_elapsed % 60))\n",
    "    print('Test Acc: {:4f}'.format(correct.double() / dataset_sizes['test']))"
   ]
  },
  {
   "cell_type": "code",
   "execution_count": null,
   "metadata": {},
   "outputs": [],
   "source": [
    "test_model(model)"
   ]
  },
  {
   "cell_type": "markdown",
   "metadata": {},
   "source": [
    "## 모델 저장하기"
   ]
  },
  {
   "cell_type": "code",
   "execution_count": null,
   "metadata": {},
   "outputs": [],
   "source": [
    "torch.save(model.state_dict(), './TrainedModel/PretrainedTrue')"
   ]
  }
 ],
 "metadata": {
  "kernelspec": {
   "display_name": "Python 3",
   "language": "python",
   "name": "python3"
  },
  "language_info": {
   "codemirror_mode": {
    "name": "ipython",
    "version": 3
   },
   "file_extension": ".py",
   "mimetype": "text/x-python",
   "name": "python",
   "nbconvert_exporter": "python",
   "pygments_lexer": "ipython3",
   "version": "3.6.10"
  }
 },
 "nbformat": 4,
 "nbformat_minor": 4
}
